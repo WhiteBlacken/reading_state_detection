{
 "cells": [
  {
   "cell_type": "code",
   "execution_count": 20,
   "metadata": {
    "collapsed": true
   },
   "outputs": [],
   "source": [
    "from torch.utils.data import Dataset, DataLoader\n",
    "import pandas as pd\n",
    "\n",
    "class TextEyeTrackingDataset(Dataset):\n",
    "    def __init__(self, csv_file):\n",
    "        self.data_frame = pd.read_csv(csv_file)\n",
    "\n",
    "    def __len__(self):\n",
    "        return len(self.data_frame)\n",
    "\n",
    "    def __getitem__(self, idx):\n",
    "        # 假设csv中的列名分别为\"text_sequences\", \"eye_tracking_sequences\", \"labels\"\n",
    "        text_seq = np.array(eval(self.data_frame.iloc[idx]['text_sequences']))\n",
    "        eye_tracking_seq = np.array(eval(self.data_frame.iloc[idx]['eye_tracking_sequences']))\n",
    "        labels = np.array(eval(self.data_frame.iloc[idx]['labels']))\n",
    "\n",
    "        # 仅使用单词索引作为文本特征的示例，实际应用中应使用词嵌入\n",
    "        word_indices = text_seq[:, 0]  # 假设单词索引在第0列\n",
    "        word_indices = [int(i) for i in word_indices]\n",
    "        word_features = text_seq[:, 2:].astype(np.float32)  # 假设坐标和大小特征从第2列开始\n",
    "\n",
    "        # 标准化眼动追踪数据（这里仅为示例，实际应用中应根据数据分布进行标准化）\n",
    "        eye_tracking_features = (eye_tracking_seq - eye_tracking_seq.mean(axis=0)) / eye_tracking_seq.std(axis=0)\n",
    "\n",
    "        return {\n",
    "            'word_indices': torch.tensor(word_indices, dtype=torch.long),\n",
    "            'word_features': torch.tensor(word_features, dtype=torch.float),\n",
    "            'eye_tracking_features': torch.tensor(eye_tracking_features, dtype=torch.float),\n",
    "            'labels': torch.tensor(labels, dtype=torch.float)\n",
    "        }\n"
   ]
  },
  {
   "cell_type": "code",
   "execution_count": 35,
   "outputs": [],
   "source": [
    "import torch\n",
    "import torch.nn as nn\n",
    "\n",
    "class MultiModalModel(nn.Module):\n",
    "    def __init__(self, vocab_size, embedding_dim, hidden_dim, output_dim):\n",
    "        super(MultiModalModel, self).__init__()\n",
    "        self.embedding = nn.Embedding(vocab_size, embedding_dim)\n",
    "        # 假设单词特征有4维\n",
    "        self.text_lstm = nn.LSTM(embedding_dim + 4, hidden_dim, batch_first=True)\n",
    "        # 假设眼动追踪特征有3维\n",
    "        self.eye_tracking_lstm = nn.LSTM(3, hidden_dim, batch_first=True)\n",
    "        # 注意这里的输出维度变为hidden_dim，因为我们要对每个时间步进行预测\n",
    "        self.fc_text = nn.Linear(hidden_dim, output_dim)\n",
    "        self.fc_eye_tracking = nn.Linear(hidden_dim, output_dim)\n",
    "        # 最终的分类器不再需要，因为我们已经在每个步骤中进行了分类\n",
    "\n",
    "    def forward(self, word_indices, word_features, eye_tracking_features):\n",
    "        word_embeddings = self.embedding(word_indices)\n",
    "        text_features = torch.cat((word_embeddings, word_features), dim=-1)\n",
    "\n",
    "        text_out, _ = self.text_lstm(text_features)\n",
    "        eye_tracking_out, _ = self.eye_tracking_lstm(eye_tracking_features)\n",
    "\n",
    "        # 对文本LSTM的每个时间步输出进行分类\n",
    "        text_classifications = self.fc_text(text_out)\n",
    "        # 对眼动追踪LSTM的每个时间步输出进行分类（如果需要）\n",
    "        # eye_tracking_classifications = self.fc_eye_tracking(eye_tracking_out)\n",
    "\n",
    "        # 由于问题描述中只需要对文本序列中的每个单词进行分类，所以我们只返回文本分类结果\n",
    "        # 如果你的任务需要考虑眼动追踪数据对每个单词的影响，你可能需要设计一个机制来融合这两个分类结果\n",
    "        return text_classifications\n"
   ],
   "metadata": {
    "collapsed": false
   }
  },
  {
   "cell_type": "code",
   "execution_count": 42,
   "outputs": [],
   "source": [
    "from torch.utils.data import random_split\n",
    "# 加载数据\n",
    "dataset = TextEyeTrackingDataset('data/raw_data_0317.csv')\n",
    "batch_size = 1\n",
    "\n",
    "# 假设dataset是你已经加载的完整数据集\n",
    "train_size = int(len(dataset) * 0.8)  # 以80%的数据作为训练集\n",
    "test_size = len(dataset) - train_size  # 剩余20%的数据作为测试集\n",
    "train_dataset, test_dataset = random_split(dataset, [train_size, test_size])\n",
    "\n",
    "train_loader = DataLoader(train_dataset, batch_size=batch_size, shuffle=True)\n",
    "test_loader = DataLoader(test_dataset, batch_size=batch_size, shuffle=False)"
   ],
   "metadata": {
    "collapsed": false
   }
  },
  {
   "cell_type": "code",
   "execution_count": null,
   "outputs": [
    {
     "name": "stderr",
     "output_type": "stream",
     "text": [
      "D:\\qxy\\software-ide\\ana\\envs\\torch-cpu\\lib\\site-packages\\sklearn\\metrics\\_classification.py:1308: UndefinedMetricWarning: Precision is ill-defined and being set to 0.0 due to no predicted samples. Use `zero_division` parameter to control this behavior.\n",
      "  _warn_prf(average, modifier, msg_start, len(result))\n"
     ]
    },
    {
     "name": "stdout",
     "output_type": "stream",
     "text": [
      "Epoch 1, Loss: 0.14199791436916903, Accuracy: 0.9781904287138584, AUC: 0.5, Precision: 0.0, Recall: 0.0\n"
     ]
    },
    {
     "name": "stderr",
     "output_type": "stream",
     "text": [
      "D:\\qxy\\software-ide\\ana\\envs\\torch-cpu\\lib\\site-packages\\sklearn\\metrics\\_classification.py:1308: UndefinedMetricWarning: Precision is ill-defined and being set to 0.0 due to no predicted samples. Use `zero_division` parameter to control this behavior.\n",
      "  _warn_prf(average, modifier, msg_start, len(result))\n"
     ]
    },
    {
     "name": "stdout",
     "output_type": "stream",
     "text": [
      "Epoch 2, Loss: 0.09481779521886717, Accuracy: 0.9781904287138584, AUC: 0.5, Precision: 0.0, Recall: 0.0\n"
     ]
    },
    {
     "name": "stderr",
     "output_type": "stream",
     "text": [
      "D:\\qxy\\software-ide\\ana\\envs\\torch-cpu\\lib\\site-packages\\sklearn\\metrics\\_classification.py:1308: UndefinedMetricWarning: Precision is ill-defined and being set to 0.0 due to no predicted samples. Use `zero_division` parameter to control this behavior.\n",
      "  _warn_prf(average, modifier, msg_start, len(result))\n"
     ]
    },
    {
     "name": "stdout",
     "output_type": "stream",
     "text": [
      "Epoch 3, Loss: 0.09042772985123403, Accuracy: 0.9781904287138584, AUC: 0.5, Precision: 0.0, Recall: 0.0\n"
     ]
    },
    {
     "name": "stderr",
     "output_type": "stream",
     "text": [
      "D:\\qxy\\software-ide\\ana\\envs\\torch-cpu\\lib\\site-packages\\sklearn\\metrics\\_classification.py:1308: UndefinedMetricWarning: Precision is ill-defined and being set to 0.0 due to no predicted samples. Use `zero_division` parameter to control this behavior.\n",
      "  _warn_prf(average, modifier, msg_start, len(result))\n"
     ]
    },
    {
     "name": "stdout",
     "output_type": "stream",
     "text": [
      "Epoch 4, Loss: 0.08626041472045301, Accuracy: 0.9781904287138584, AUC: 0.5, Precision: 0.0, Recall: 0.0\n"
     ]
    },
    {
     "name": "stderr",
     "output_type": "stream",
     "text": [
      "D:\\qxy\\software-ide\\ana\\envs\\torch-cpu\\lib\\site-packages\\sklearn\\metrics\\_classification.py:1308: UndefinedMetricWarning: Precision is ill-defined and being set to 0.0 due to no predicted samples. Use `zero_division` parameter to control this behavior.\n",
      "  _warn_prf(average, modifier, msg_start, len(result))\n"
     ]
    },
    {
     "name": "stdout",
     "output_type": "stream",
     "text": [
      "Epoch 5, Loss: 0.08153771552426076, Accuracy: 0.9781904287138584, AUC: 0.5, Precision: 0.0, Recall: 0.0\n"
     ]
    },
    {
     "name": "stderr",
     "output_type": "stream",
     "text": [
      "D:\\qxy\\software-ide\\ana\\envs\\torch-cpu\\lib\\site-packages\\sklearn\\metrics\\_classification.py:1308: UndefinedMetricWarning: Precision is ill-defined and being set to 0.0 due to no predicted samples. Use `zero_division` parameter to control this behavior.\n",
      "  _warn_prf(average, modifier, msg_start, len(result))\n"
     ]
    },
    {
     "name": "stdout",
     "output_type": "stream",
     "text": [
      "Epoch 6, Loss: 0.07871643060611354, Accuracy: 0.9781904287138584, AUC: 0.5, Precision: 0.0, Recall: 0.0\n"
     ]
    },
    {
     "name": "stderr",
     "output_type": "stream",
     "text": [
      "D:\\qxy\\software-ide\\ana\\envs\\torch-cpu\\lib\\site-packages\\sklearn\\metrics\\_classification.py:1308: UndefinedMetricWarning: Precision is ill-defined and being set to 0.0 due to no predicted samples. Use `zero_division` parameter to control this behavior.\n",
      "  _warn_prf(average, modifier, msg_start, len(result))\n"
     ]
    },
    {
     "name": "stdout",
     "output_type": "stream",
     "text": [
      "Epoch 7, Loss: 0.0777384458349375, Accuracy: 0.9781904287138584, AUC: 0.5, Precision: 0.0, Recall: 0.0\n"
     ]
    }
   ],
   "source": [
    "from sklearn.metrics import accuracy_score, roc_auc_score, precision_score, recall_score\n",
    "import numpy as np\n",
    "\n",
    "def evaluate_model(model, test_loader):\n",
    "    model.eval()  # 设置模型为评估模式\n",
    "    predictions = []\n",
    "    actuals = []\n",
    "    with torch.no_grad():  # 在评估过程中不计算梯度\n",
    "        for batch in test_loader:\n",
    "            outputs = model(batch['word_indices'], batch['word_features'], batch['eye_tracking_features'])\n",
    "            outputs = torch.sigmoid(outputs.squeeze(dim=2).view(-1))  # 使用sigmoid激活函数获取概率,因为要算准确率\n",
    "            predictions.extend(outputs.tolist())\n",
    "            actuals.extend(batch['labels'].view(-1).tolist())\n",
    "\n",
    "    # 计算性能指标\n",
    "    predictions = np.round(predictions)  # 将概率值转换为0或1\n",
    "    accuracy = accuracy_score(actuals, predictions)\n",
    "    auc = roc_auc_score(actuals, predictions)\n",
    "    precision = precision_score(actuals, predictions)\n",
    "    recall = recall_score(actuals, predictions)\n",
    "\n",
    "    return accuracy, auc, precision, recall\n",
    "\n",
    "def train_model(model, train_loader, test_loader, optimizer, criterion, epochs=10):\n",
    "    for epoch in range(epochs):\n",
    "        model.train()  # 设置模型为训练模式\n",
    "        total_loss = 0\n",
    "        for batch in train_loader:\n",
    "            optimizer.zero_grad()\n",
    "            outputs = model(batch['word_indices'], batch['word_features'], batch['eye_tracking_features'])\n",
    "            outputs = outputs.squeeze(dim=2).view(-1, 1)\n",
    "            loss = criterion(outputs, batch['labels'].view(-1, 1))\n",
    "            loss.backward()\n",
    "            optimizer.step()\n",
    "            total_loss += loss.item()\n",
    "\n",
    "        # 在测试集上评估模型\n",
    "        accuracy, auc, precision, recall = evaluate_model(model, test_loader, criterion)\n",
    "        print(f'Epoch {epoch+1}, Loss: {total_loss/len(train_loader)}, Accuracy: {accuracy}, AUC: {auc}, Precision: {precision}, Recall: {recall}')\n",
    "# 示例参数\n",
    "vocab_size = 10000  # 假设词汇表大小为10000\n",
    "embedding_dim = 300  # 假设词嵌入维度为300\n",
    "hidden_dim = 128  # LSTM隐藏层维度\n",
    "output_dim = 1  # 输出维度，二分类问题\n",
    "\n",
    "model = MultiModalModel(vocab_size, embedding_dim, hidden_dim, output_dim)\n",
    "optimizer = torch.optim.Adam(model.parameters())\n",
    "criterion = nn.BCEWithLogitsLoss()\n",
    "\n",
    "\n",
    "# 训练模型\n",
    "train_model(model, train_loader, test_loader, optimizer, criterion)"
   ],
   "metadata": {
    "collapsed": false,
    "pycharm": {
     "is_executing": true
    }
   }
  }
 ],
 "metadata": {
  "kernelspec": {
   "display_name": "Python 3",
   "language": "python",
   "name": "python3"
  },
  "language_info": {
   "codemirror_mode": {
    "name": "ipython",
    "version": 2
   },
   "file_extension": ".py",
   "mimetype": "text/x-python",
   "name": "python",
   "nbconvert_exporter": "python",
   "pygments_lexer": "ipython2",
   "version": "2.7.6"
  }
 },
 "nbformat": 4,
 "nbformat_minor": 0
}
